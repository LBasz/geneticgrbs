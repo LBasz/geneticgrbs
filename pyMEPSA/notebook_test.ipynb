{
 "cells": [
  {
   "cell_type": "code",
   "execution_count": 4,
   "metadata": {},
   "outputs": [
    {
     "name": "stdout",
     "output_type": "stream",
     "text": [
      "#Peak RebF BinPhase\tPeakT     BinT\t   PeakR    EPeakR     SNR\tCriterium Nadiac\n",
      "  1    9    4\t   -25.168    0.576\t   0.12745   0.01965    6.49\t30 10\n",
      "  2   15    6\t     0.496    0.960\t   0.31288   0.01845   16.96\t25  9\n",
      "  3    2    0\t     2.320    0.128\t   0.45188   0.05164    8.75\t39  8\n",
      "  4    8    1\t    15.376    0.512\t   0.39150   0.02567   15.25\t39  8\n",
      "Time to load the libraries:  0:00:00.000553\n",
      "Time to execute MEPSA:       0:00:00.441080\n"
     ]
    }
   ],
   "source": [
    "import ctypes\n",
    "from datetime import datetime\n",
    "\n",
    "path='/home/lorenzo/git/lc_pulse_avalanche/pyMEPSA/mepsa.so'\n",
    "#path='/mnt/c/Users/Lisa/Desktop/pyMEPSA_test/mepsa.so'\n",
    "\n",
    "start_program = datetime.now()\n",
    "\n",
    "# A. Create library\n",
    "C_library = ctypes.CDLL(path)\n",
    "\n",
    "# B. Specify function signatures\n",
    "peak_find = C_library.main\n",
    "peak_find.argtypes = ctypes.c_int, ctypes.POINTER(ctypes.c_char_p)\n",
    "\n",
    "# C. Invoke function\n",
    "test_grb = b'./test/input_lc.dat'\n",
    "exp_file = b'./excess_pattern_MEPSA_v0.dat'\n",
    "reb      = b'16'\n",
    "grb_name = 'grb12345'\n",
    "out_file = (grb_name + '.dat').encode('ascii')\n",
    "argv     = (ctypes.c_char_p * 5) (b'pyMepsa', test_grb, exp_file, reb, out_file)\n",
    "#print(out_file)\n",
    "\n",
    "start_peak_find = datetime.now()\n",
    "peak_find(len(argv), argv)\n",
    "end_time = datetime.now()\n",
    "\n",
    "print(\"Time to load the libraries: \", (start_peak_find - start_program)  )\n",
    "print(\"Time to execute MEPSA:      \", (end_time        - start_peak_find))"
   ]
  },
  {
   "cell_type": "code",
   "execution_count": null,
   "metadata": {},
   "outputs": [],
   "source": []
  }
 ],
 "metadata": {
  "kernelspec": {
   "display_name": "tf2",
   "language": "python",
   "name": "python3"
  },
  "language_info": {
   "codemirror_mode": {
    "name": "ipython",
    "version": 3
   },
   "file_extension": ".py",
   "mimetype": "text/x-python",
   "name": "python",
   "nbconvert_exporter": "python",
   "pygments_lexer": "ipython3",
   "version": "3.7.12"
  },
  "orig_nbformat": 4,
  "vscode": {
   "interpreter": {
    "hash": "9e1a44a7e7a296f949502a531da112c5fb087203e157296f287e135edbf4754e"
   }
  }
 },
 "nbformat": 4,
 "nbformat_minor": 2
}
