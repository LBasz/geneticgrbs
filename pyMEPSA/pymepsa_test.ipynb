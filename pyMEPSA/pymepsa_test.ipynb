{
 "cells": [
  {
   "cell_type": "code",
   "execution_count": 1,
   "metadata": {},
   "outputs": [
    {
     "ename": "OSError",
     "evalue": "[WinError 193] %1 non è un'applicazione di Win32 valida",
     "output_type": "error",
     "traceback": [
      "\u001b[1;31m---------------------------------------------------------------------------\u001b[0m",
      "\u001b[1;31mOSError\u001b[0m                                   Traceback (most recent call last)",
      "Cell \u001b[1;32mIn[1], line 15\u001b[0m\n\u001b[0;32m      7\u001b[0m start_program \u001b[39m=\u001b[39m datetime\u001b[39m.\u001b[39mnow()\n\u001b[0;32m      9\u001b[0m \u001b[39m#------------------------------------------------------------------------------#\u001b[39;00m\n\u001b[0;32m     10\u001b[0m \u001b[39m# A. Create C library in Python \u001b[39;00m\n\u001b[0;32m     11\u001b[0m \u001b[39m#------------------------------------------------------------------------------#\u001b[39;00m\n\u001b[0;32m     12\u001b[0m \u001b[39m# We load the C library (mepsa.c) via ctypes.CDLL(<libpath>), where <libpath>\u001b[39;00m\n\u001b[0;32m     13\u001b[0m \u001b[39m# is a relative pointer to the shared library file (mepsa.so). To create the\u001b[39;00m\n\u001b[0;32m     14\u001b[0m \u001b[39m# shared library just execute the Makefile inside the 'pyMEPSA' folder.\u001b[39;00m\n\u001b[1;32m---> 15\u001b[0m mepsa_lib \u001b[39m=\u001b[39m ctypes\u001b[39m.\u001b[39mCDLL(path)\n\u001b[0;32m     17\u001b[0m \u001b[39m#------------------------------------------------------------------------------#\u001b[39;00m\n\u001b[0;32m     18\u001b[0m \u001b[39m# B. Specify function signatures\u001b[39;00m\n\u001b[0;32m     19\u001b[0m \u001b[39m#------------------------------------------------------------------------------#\u001b[39;00m\n\u001b[1;32m   (...)\u001b[0m\n\u001b[0;32m     36\u001b[0m \u001b[39m# Choose the C function in the library to import in Python (the main function\u001b[39;00m\n\u001b[0;32m     37\u001b[0m \u001b[39m# in our case):\u001b[39;00m\n\u001b[0;32m     38\u001b[0m peak_find \u001b[39m=\u001b[39m mepsa_lib\u001b[39m.\u001b[39mmain\n",
      "File \u001b[1;32mc:\\ProgramData\\anaconda3\\envs\\astro\\Lib\\ctypes\\__init__.py:376\u001b[0m, in \u001b[0;36mCDLL.__init__\u001b[1;34m(self, name, mode, handle, use_errno, use_last_error, winmode)\u001b[0m\n\u001b[0;32m    373\u001b[0m \u001b[39mself\u001b[39m\u001b[39m.\u001b[39m_FuncPtr \u001b[39m=\u001b[39m _FuncPtr\n\u001b[0;32m    375\u001b[0m \u001b[39mif\u001b[39;00m handle \u001b[39mis\u001b[39;00m \u001b[39mNone\u001b[39;00m:\n\u001b[1;32m--> 376\u001b[0m     \u001b[39mself\u001b[39m\u001b[39m.\u001b[39m_handle \u001b[39m=\u001b[39m _dlopen(\u001b[39mself\u001b[39m\u001b[39m.\u001b[39m_name, mode)\n\u001b[0;32m    377\u001b[0m \u001b[39melse\u001b[39;00m:\n\u001b[0;32m    378\u001b[0m     \u001b[39mself\u001b[39m\u001b[39m.\u001b[39m_handle \u001b[39m=\u001b[39m handle\n",
      "\u001b[1;31mOSError\u001b[0m: [WinError 193] %1 non è un'applicazione di Win32 valida"
     ]
    }
   ],
   "source": [
    "import ctypes\n",
    "from datetime import datetime\n",
    "\n",
    "#path='/home/lorenzo/git/lc_pulse_avalanche/pyMEPSA/mepsa.so' # LB\n",
    "path='C:/Users/lisaf/Desktop/GitHub/lc_pulse_avalanche/pyMEPSA/mepsa.so'      # AF\n",
    "\n",
    "start_program = datetime.now()\n",
    "\n",
    "#------------------------------------------------------------------------------#\n",
    "# A. Create C library in Python \n",
    "#------------------------------------------------------------------------------#\n",
    "# We load the C library (mepsa.c) via ctypes.CDLL(<libpath>), where <libpath>\n",
    "# is a relative pointer to the shared library file (mepsa.so). To create the\n",
    "# shared library just execute the Makefile inside the 'pyMEPSA' folder.\n",
    "mepsa_lib = ctypes.CDLL(path)\n",
    "\n",
    "#------------------------------------------------------------------------------#\n",
    "# B. Specify function signatures\n",
    "#------------------------------------------------------------------------------#\n",
    "# All functions defined within the library mepsa.c have now become methods of\n",
    "# the 'mepsa_lib' object defined above.\n",
    "# Python is a dynamically typed language, whereas C is statically typed language. \n",
    "# This discrepancy between Python and C is important because we generally want\n",
    "# to pass information between Python and C. ctypes will try to infer the \n",
    "# datatype, but it can mess up the inference of a C datatype and we are left\n",
    "# with garbage values being passed in either direction. Catastrophic. Failure.\n",
    "# To address this issue, ctypes allows us to explicitly specify the function\n",
    "# signatures (i.e., the datatypes associated with the input and output values\n",
    "# of a given function).  \n",
    "# The main function of MEPSA takes as input 4 (actually 5) strings:\n",
    "#   (- name of the program);\n",
    "#    - input time series (3 columns: time, rate, error on rate);\n",
    "#    - excess patterns' file;\n",
    "#    - maximum rebin factor to be searched;\n",
    "#    - name of the file to be saved with the results;\n",
    "# Choose the C function in the library to import in Python (the main function\n",
    "# in our case):\n",
    "peak_find = mepsa_lib.main\n",
    "# Types of the _inputs_ of the C function imported (in our case, the inputs of\n",
    "# the main function):\n",
    "peak_find.argtypes = ctypes.c_int, ctypes.POINTER(ctypes.c_char_p)\n",
    "# Type of the _output_ of the C function imported (in our case, the return of\n",
    "# the main function):\n",
    "peak_find.restype  = ctypes.c_int \n",
    "\n",
    "#------------------------------------------------------------------------------#\n",
    "# C. Invoke function\n",
    "#------------------------------------------------------------------------------#\n",
    "test_grb = b'./test/input_lc.dat'\n",
    "exp_file = b'./excess_pattern_MEPSA_v0.dat'\n",
    "reb      = b'16'\n",
    "grb_name = 'GRB12345'\n",
    "out_file = (grb_name + '.dat').encode('ascii')\n",
    "argv     = (ctypes.c_char_p * 5) (b'pyMEPSA', test_grb, exp_file, reb, out_file)\n",
    "#print(out_file)\n",
    "start_peak_find = datetime.now()\n",
    "peak_find(len(argv), argv)\n",
    "end_time = datetime.now()\n",
    "#------------------------------------------------------------------------------#\n",
    "\n",
    "print(\"Time to load the libraries: \", (start_peak_find - start_program)  )\n",
    "print(\"Time to execute MEPSA:      \", (end_time        - start_peak_find))"
   ]
  }
 ],
 "metadata": {
  "kernelspec": {
   "display_name": "Python 3",
   "language": "python",
   "name": "python3"
  },
  "language_info": {
   "codemirror_mode": {
    "name": "ipython",
    "version": 3
   },
   "file_extension": ".py",
   "mimetype": "text/x-python",
   "name": "python",
   "nbconvert_exporter": "python",
   "pygments_lexer": "ipython3",
   "version": "3.11.4"
  },
  "orig_nbformat": 4,
  "vscode": {
   "interpreter": {
    "hash": "fa2573804e385b475a9aff03c3c196a6d958f0da2e8721994fa4ba463b02ac5a"
   }
  }
 },
 "nbformat": 4,
 "nbformat_minor": 2
}
