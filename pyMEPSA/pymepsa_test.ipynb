{
 "cells": [
  {
   "cell_type": "code",
   "execution_count": 5,
   "metadata": {},
   "outputs": [
    {
     "name": "stdout",
     "output_type": "stream",
     "text": [
      "#Peak RebF BinPhase\tPeakT     BinT\t   PeakR    EPeakR     SNR\tCriterium Nadiac\n",
      "  1    9    4\t   -25.168    0.576\t   0.12745   0.01965    6.49\t30 10\n",
      "  2   17    0\t     0.496    1.088\t   0.31390   0.01726   18.18\t14  7\n",
      "  3    2    0\t     2.320    0.128\t   0.45188   0.05164    8.75\t39  8\n",
      "  4    8    1\t    15.376    0.512\t   0.39150   0.02567   15.25\t39  8\n",
      "  5   16    3\t    71.568    1.024\t   0.10439   0.01099    9.50\t35 10\n",
      "Time to load the libraries:  0:00:00.000416\n",
      "Time to execute MEPSA:       0:00:01.980086\n"
     ]
    }
   ],
   "source": [
    "import ctypes\n",
    "from datetime import datetime\n",
    "\n",
    "path='/Users/lorenzo/Documents/UNIVERSITA/Astrophysics/PYTHON/GRBs/lc_pulse_avalanche/pyMEPSA/mepsa.so' # LB\n",
    "path='C:/Users/lisaf/Desktop/GitHub/lc_pulse_avalanche/pyMEPSA/mepsa.so'      # AF\n",
    "\n",
    "start_program = datetime.now()\n",
    "\n",
    "#------------------------------------------------------------------------------#\n",
    "# A. Create C library in Python \n",
    "#------------------------------------------------------------------------------#\n",
    "# We load the C library (mepsa.c) via ctypes.CDLL(<libpath>), where <libpath>\n",
    "# is a relative pointer to the shared library file (mepsa.so). To create the\n",
    "# shared library just execute the Makefile inside the 'pyMEPSA' folder.\n",
    "mepsa_lib = ctypes.CDLL(path)\n",
    "\n",
    "#------------------------------------------------------------------------------#\n",
    "# B. Specify function signatures\n",
    "#------------------------------------------------------------------------------#\n",
    "# All functions defined within the library mepsa.c have now become methods of\n",
    "# the 'mepsa_lib' object defined above.\n",
    "# Python is a dynamically typed language, whereas C is statically typed language. \n",
    "# This discrepancy between Python and C is important because we generally want\n",
    "# to pass information between Python and C. ctypes will try to infer the \n",
    "# datatype, but it can mess up the inference of a C datatype and we are left\n",
    "# with garbage values being passed in either direction. Catastrophic. Failure.\n",
    "# To address this issue, ctypes allows us to explicitly specify the function\n",
    "# signatures (i.e., the datatypes associated with the input and output values\n",
    "# of a given function).  \n",
    "# The main function of MEPSA takes as input 4 (actually 5) strings:\n",
    "#   (- name of the program);\n",
    "#    - input time series (3 columns: time, rate, error on rate);\n",
    "#    - excess patterns' file;\n",
    "#    - maximum rebin factor to be searched;\n",
    "#    - name of the file to be saved with the results;\n",
    "# Choose the C function in the library to import in Python (the main function\n",
    "# in our case):\n",
    "peak_find = mepsa_lib.main\n",
    "# Types of the _inputs_ of the C function imported (in our case, the inputs of\n",
    "# the main function):\n",
    "peak_find.argtypes = ctypes.c_int, ctypes.POINTER(ctypes.c_char_p)\n",
    "# Type of the _output_ of the C function imported (in our case, the return of\n",
    "# the main function):\n",
    "peak_find.restype  = ctypes.c_int \n",
    "\n",
    "#------------------------------------------------------------------------------#\n",
    "# C. Invoke function\n",
    "#------------------------------------------------------------------------------#\n",
    "test_grb = b'./test/input_lc.dat'\n",
    "exp_file = b'./excess_pattern_MEPSA_v0.dat'\n",
    "reb      = b'32'\n",
    "grb_name = 'GRB12345'\n",
    "out_file = (grb_name + '.dat').encode('ascii')\n",
    "argv     = (ctypes.c_char_p * 5) (b'pyMEPSA', test_grb, exp_file, reb, out_file)\n",
    "#print(out_file)\n",
    "start_peak_find = datetime.now()\n",
    "peak_find(len(argv), argv)\n",
    "end_time = datetime.now()\n",
    "#------------------------------------------------------------------------------#\n",
    "\n",
    "print(\"Time to load the libraries:\", (start_peak_find - start_program)  )\n",
    "print(\"Time to execute MEPSA:     \", (end_time        - start_peak_find))"
   ]
  }
 ],
 "metadata": {
  "kernelspec": {
   "display_name": "Python 3",
   "language": "python",
   "name": "python3"
  },
  "language_info": {
   "codemirror_mode": {
    "name": "ipython",
    "version": 3
   },
   "file_extension": ".py",
   "mimetype": "text/x-python",
   "name": "python",
   "nbconvert_exporter": "python",
   "pygments_lexer": "ipython3",
   "version": "3.9.16"
  },
  "orig_nbformat": 4,
  "vscode": {
   "interpreter": {
    "hash": "fa2573804e385b475a9aff03c3c196a6d958f0da2e8721994fa4ba463b02ac5a"
   }
  }
 },
 "nbformat": 4,
 "nbformat_minor": 2
}
