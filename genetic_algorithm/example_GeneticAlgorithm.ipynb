{
 "cells": [
  {
   "cell_type": "code",
   "execution_count": 2,
   "id": "302321a0",
   "metadata": {},
   "outputs": [],
   "source": [
    "################################################################################\n",
    "# IMPORT LIBRARIES\n",
    "################################################################################\n",
    "\n",
    "import os\n",
    "import sys\n",
    "import time\n",
    "import pygad\n",
    "#import yaml, h5py\n",
    "import numpy as np\n",
    "import pandas as pd\n",
    "import matplotlib.pyplot as plt\n",
    "\n",
    "import seaborn as sns\n",
    "sns.set_style('darkgrid')\n",
    "\n",
    "from matplotlib import rc\n",
    "rc('font', **{'family': 'serif', 'serif': ['Computer Modern']})\n",
    "rc('text', usetex=True)\n",
    "\n",
    "%config InlineBackend.figure_format='retina' # very useful command for high-res images\n",
    "%matplotlib inline\n",
    "\n",
    "seed=42\n",
    "np.random.seed(seed)\n",
    "\n",
    "# set the username for the path of the files:\n",
    "user='LB'\n",
    "#user='AF'\n",
    "#user='bach'\n",
    "if user=='bach':\n",
    "    # library paths\n",
    "    sys.path.append('/home/bazzanini/PYTHON/genetic/lc_pulse_avalanche/statistical_test')\n",
    "    sys.path.append('/home/bazzanini/PYTHON/genetic/lc_pulse_avalanche/lc_pulse_avalanche')\n",
    "    # real data\n",
    "    batse_path = '/astrodata/guidorzi/CGRO_BATSE/'\n",
    "    swift_path = '/astrodata/guidorzi/Swift_BAT/'\n",
    "    sax_path   = '/astrodata/guidorzi/BeppoSAX_GRBM/'\n",
    "elif user=='LB':\n",
    "    # library paths\n",
    "    sys.path.append('/Users/lorenzo/Documents/UNIVERSITA/Astrophysics/PYTHON/GRBs/lc_pulse_avalanche/statistical_test')\n",
    "    sys.path.append('/Users/lorenzo/Documents/UNIVERSITA/Astrophysics/PYTHON/GRBs/lc_pulse_avalanche/lc_pulse_avalanche')\n",
    "    # real data\n",
    "    batse_path = '/Users/lorenzo/Documents/UNIVERSITA/Astrophysics/PYTHON/DATA/CGRO_BATSE/'\n",
    "    swift_path = '/Users/lorenzo/Documents/UNIVERSITA/Astrophysics/PYTHON/DATA/Swift_BAT/'\n",
    "    sax_path   = '/Users/lorenzo/Documents/UNIVERSITA/Astrophysics/PYTHON/DATA/BeppoSAX_GRBM/'\n",
    "elif user=='AF':\n",
    "    # libraries\n",
    "    sys.path.append('......WRITE_HERE....../lc_pulse_avalanche/statistical_test')\n",
    "    sys.path.append('......WRITE_HERE....../lc_pulse_avalanche/lc_pulse_avalanche')\n",
    "    # real data\n",
    "    batse_path = 'E:/grb_to_test/CGRO_BATSE/'\n",
    "    swift_path = 'E:/grb_to_test/Swift_BAT/'\n",
    "    sax_path   = 'E:/grb_to_test/BeppoSAX_GRBM/'\n",
    "else:\n",
    "    raise ValueError('Assign to the variable \"user\" a correct username!')\n",
    "\n",
    "from statistical_test import *\n",
    "from avalanche import LC, Restored_LC"
   ]
  },
  {
   "cell_type": "code",
   "execution_count": 3,
   "id": "4f406331",
   "metadata": {},
   "outputs": [],
   "source": [
    "################################################################################\n",
    "# SET PARAMETERS\n",
    "################################################################################\n",
    "\n",
    "# choose the instrument\n",
    "instrument = 'batse'\n",
    "#instrument = 'swift'\n",
    "#instrument = 'sax'\n",
    "\n",
    "init_load_time = time.perf_counter()\n",
    "#------------------------------------------------------------------------------#\n",
    "\n",
    "if instrument=='batse':\n",
    "    t_i           = 0     # [s]\n",
    "    t_f           = 150   # [s]\n",
    "    eff_area      = 3600  # effective area of instrument [cm2]\n",
    "    bg_level      = 10.67 # background level [cnt/cm2/s]\n",
    "    t90_threshold = 2     # [s] --> used to select only _long_ GRBs\n",
    "    sn_threshold  = 70    # signal-to-noise ratio\n",
    "    bin_time      = 0.064 # [s] temporal bins for BATSE (its time resolution)\n",
    "    test_times    = np.linspace(t_i, t_f, int((t_f-t_i)/bin_time))\n",
    "elif instrument=='swift':\n",
    "    t_i           = 0                # [s]\n",
    "    t_f           = 150              # [s]\n",
    "    eff_area      = 1400             # effective area of instrument [cm2]\n",
    "    bg_level      = (10000/eff_area) # background level [cnt/cm2/s]\n",
    "    t90_threshold = 2                # [s] --> used to select only _long_ GRBs\n",
    "    sn_threshold  = 20               # signal-to-noise ratio\n",
    "    bin_time      = 0.064            # [s] temporal bins for Swift (its time resolution)\n",
    "    test_times    = np.linspace(t_i, t_f, int((t_f-t_i)/bin_time))\n",
    "elif instrument=='sax':\n",
    "    t_i           = 0               # [s]\n",
    "    #t_f          = 150             # [s]\n",
    "    t_f           = 50              # [s] (HR)\n",
    "    eff_area      = 420             # effective area of instrument [cm2]\n",
    "    bg_level      = (1000/eff_area) # background level [cnt/cm2/s]\n",
    "    t90_threshold = 2               # [s] --> used to select only _long_ GRBs\n",
    "    sn_threshold  = 10              # signal-to-noise ratio\n",
    "    #bin_time     = 1.0             # [s] temporal bins for BeppoSAX\n",
    "    bin_time      = 0.0078125       # [s] temporal bins for BeppoSAX (HR)\n",
    "    test_times    = np.linspace(t_i, t_f, int((t_f-t_i)/bin_time))\n",
    "else:\n",
    "    raise NameError('Variable \"instrument\" not defined properly; choose between: \"batse\", \"swift\", \"sax\".')\n",
    "\n",
    "#------------------------------------------------------------------------------#\n",
    "\n",
    "# The values of the 7 parameters from the paper [Stern & Svensson, 1996] are\n",
    "# mu=1.2\n",
    "# mu0=1\n",
    "# alpha=4\n",
    "# delta1=-0.5\n",
    "# delta2=0\n",
    "# tau_min=0.02\n",
    "# tau_max=26\n",
    "\n",
    "# We impose constraints on the range of values that the 7 parameter can assume\n",
    "range_mu      = {\"low\": 0.9,            \"high\": 2}\n",
    "range_mu0     = {\"low\": 0.9,            \"high\": 2} \n",
    "range_alpha   = {\"low\": 1,               \"high\": 15} \n",
    "range_delta1  = {\"low\": -1.5,            \"high\": -0.25-1.e-6} \n",
    "range_delta2  = {\"low\": 0.0,             \"high\": 0.25} \n",
    "range_tau_min = {\"low\": np.log10(1.e-6), \"high\": np.log10(bin_time-1.e-6)} # sample uniformly in log space\n",
    "range_tau_max = {\"low\": bin_time+15,     \"high\": 60} \n",
    "\n",
    "range_constraints = [range_mu, \n",
    "                     range_mu0,\n",
    "                     range_alpha,\n",
    "                     range_delta1, \n",
    "                     range_delta2, \n",
    "                     range_tau_min, \n",
    "                     range_tau_max]\n",
    "\n",
    "#------------------------------------------------------------------------------#"
   ]
  },
  {
   "cell_type": "code",
   "execution_count": 4,
   "id": "0f12a03b",
   "metadata": {},
   "outputs": [
    {
     "name": "stderr",
     "output_type": "stream",
     "text": [
      "100%|██████████| 1457/1457 [00:02<00:00, 531.97it/s]\n"
     ]
    },
    {
     "name": "stdout",
     "output_type": "stream",
     "text": [
      "Total number of _long_ GRBs in BATSE catalogue:  1457\n",
      "GRBs in the catalogue which are NOT present in the data folder:  0\n",
      "Loaded GRBs:  1457\n",
      "Total number of input GRBs:  1457\n",
      "GRBs with negative duration:  0\n",
      "GRBs that satisfy the constraints:  585\n",
      "- batse data loaded in: 3 sec\n"
     ]
    }
   ],
   "source": [
    "################################################################################\n",
    "# LOAD REAL DATA\n",
    "################################################################################\n",
    "\n",
    "init_load_time = time.perf_counter()\n",
    "\n",
    "\n",
    "### Load the BATSE GRBs\n",
    "if instrument=='batse': \n",
    "    # load all data\n",
    "    grb_list_real = load_lc_batse(path=batse_path) \n",
    "    # apply constraints\n",
    "    grb_list_real = apply_constraints(grb_list=grb_list_real, \n",
    "                                      bin_time=bin_time, \n",
    "                                      t90_threshold=t90_threshold, \n",
    "                                      sn_threshold=sn_threshold, \n",
    "                                      t_f=t_f)\n",
    "### Load the Swift GRBs\n",
    "elif instrument=='swift': \n",
    "    # load all data\n",
    "    grb_list_real = load_lc_swift(path=swift_path)\n",
    "    # apply constraints\n",
    "    grb_list_real = apply_constraints(grb_list=grb_list_real, \n",
    "                                      bin_time=bin_time, \n",
    "                                      t90_threshold=t90_threshold, \n",
    "                                      sn_threshold=sn_threshold, \n",
    "                                      t_f=t_f)\n",
    "### Load the BeppoSAX GRBs\n",
    "elif instrument=='sax': \n",
    "    # load all (HR) data\n",
    "    grb_list_real = load_lc_sax_hr(path=sax_path) \n",
    "    # apply constraints\n",
    "    grb_list_real = apply_constraints(grb_list=grb_list_real, \n",
    "                                      bin_time=bin_time, \n",
    "                                      t90_threshold=t90_threshold, \n",
    "                                      sn_threshold=sn_threshold, \n",
    "                                      t_f=t_f)\n",
    "else:\n",
    "    raise NameError('Variable \"instrument\" not defined properly; choose between: \"batse\", \"swift\", \"sax\".')\n",
    "\n",
    "end_load_time = time.perf_counter()\n",
    "print('- {} data loaded in: {:0.0f} sec'.format(instrument,(end_load_time-init_load_time)))   "
   ]
  },
  {
   "cell_type": "code",
   "execution_count": 5,
   "id": "7a45a884-a607-480a-83fc-5f3171b886d4",
   "metadata": {},
   "outputs": [],
   "source": [
    "# Set the number of simulated GRBs to produce equal to the number of real GRBs\n",
    "# that passed the constraint selection\n",
    "N_grb=20#len(grb_list_real)"
   ]
  },
  {
   "cell_type": "code",
   "execution_count": 6,
   "id": "77878ef0",
   "metadata": {},
   "outputs": [],
   "source": [
    "################################################################################\n",
    "# PERFORM TESTS ON REAL DATA\n",
    "################################################################################\n",
    "\n",
    "#------------------------------------------------------------------------------#\n",
    "### TEST 1&2: Average Peak-Aligned Profiles\n",
    "averaged_fluxes_real, \\\n",
    "averaged_fluxes_cube_real, \\\n",
    "averaged_fluxes_rms_real = compute_average_quantities(grb_list=grb_list_real, \n",
    "                                                      t_f=t_f, \n",
    "                                                      bin_time=bin_time,\n",
    "                                                      filter=True)\n",
    "#------------------------------------------------------------------------------#\n",
    "## TEST 3: Autocorrelation\n",
    "N_lim = np.min( [N_grb, len(grb_list_real)] ) # N_grb is set equal to len(grb_list_real)\n",
    "steps_real, acf_real = compute_autocorrelation(grb_list=grb_list_real,\n",
    "                                               N_lim=N_lim,\n",
    "                                               t_max=t_f,\n",
    "                                               bin_time=bin_time,\n",
    "                                               mode='scipy')\n",
    "#------------------------------------------------------------------------------#\n",
    "### TEST 4: Duration\n",
    "duration_real = [ evaluateDuration20(times=grb.times, \n",
    "                                     counts=grb.counts,\n",
    "                                     filter=True,\n",
    "                                     t90=grb.t90,\n",
    "                                     bin_time=bin_time)[0] for grb in grb_list_real ]\n",
    "duration_distr_real = compute_kde_log_duration(duration_list=duration_real)\n",
    "#------------------------------------------------------------------------------#"
   ]
  },
  {
   "cell_type": "code",
   "execution_count": 7,
   "id": "c7ee5c02-acdf-4474-9bb4-1d90ff4fdf4e",
   "metadata": {},
   "outputs": [],
   "source": [
    "def fitness_func(solution, solution_idx=None):\n",
    "    #--------------------------------------------------------------------------#\n",
    "    # Generate the GRBs\n",
    "    #--------------------------------------------------------------------------#\n",
    "    grb_list_sim = generate_GRBs(# number of simulated GRBs to produce\n",
    "                                 N_grb=N_grb,\n",
    "                                 # 7 parameters\n",
    "                                 mu=solution[0],\n",
    "                                 mu0=solution[1],\n",
    "                                 alpha=solution[2],\n",
    "                                 delta1=solution[3],\n",
    "                                 delta2=solution[4],\n",
    "                                 tau_min=10**solution[5],  # sample uniformly in log space\n",
    "                                 tau_max=solution[6],\n",
    "                                 # instrument parameters\n",
    "                                 instrument=instrument,\n",
    "                                 bin_time=bin_time,\n",
    "                                 eff_area=eff_area,\n",
    "                                 bg_level=bg_level,\n",
    "                                 # constraint parameters\n",
    "                                 t90_threshold=t90_threshold,\n",
    "                                 sn_threshold=sn_threshold,\n",
    "                                 t_f=t_f,\n",
    "                                 # other parameters\n",
    "                                 export_files=False,\n",
    "                                 n_cut=2000,\n",
    "                                 with_bg=False)\n",
    "\n",
    "    #--------------------------------------------------------------------------#\n",
    "    # Compute quantities needed for the loss function\n",
    "    #--------------------------------------------------------------------------#\n",
    "    # TEST 1&2: Average Peak-Aligned Profiles\n",
    "    averaged_fluxes_sim, \\\n",
    "    averaged_fluxes_cube_sim, \\\n",
    "    averaged_fluxes_rms_sim = compute_average_quantities(grb_list=grb_list_sim,\n",
    "                                                         t_f=t_f,\n",
    "                                                         bin_time=bin_time,\n",
    "                                                         filter=True)\n",
    "    # TEST 3: Autocorrelation\n",
    "    steps_sim, acf_sim      = compute_autocorrelation(grb_list=grb_list_sim,\n",
    "                                                      N_lim=N_lim,\n",
    "                                                      t_max=t_f,\n",
    "                                                      bin_time=bin_time,\n",
    "                                                      mode='scipy')\n",
    "    # TEST 4: Duration\n",
    "    duration_sim = [ evaluateDuration20(times=grb.times, \n",
    "                                         counts=grb.counts,\n",
    "                                         filter=True,\n",
    "                                         t90=grb.t90,\n",
    "                                         bin_time=bin_time)[0] for grb in grb_list_sim ]\n",
    "    duration_distr_sim = compute_kde_log_duration(duration_list=duration_sim)\n",
    "    #--------------------------------------------------------------------------#\n",
    "    # Compute loss\n",
    "    #--------------------------------------------------------------------------#\n",
    "    l2_loss = compute_loss(averaged_fluxes=averaged_fluxes_real,\n",
    "                           averaged_fluxes_sim=averaged_fluxes_sim,\n",
    "                           averaged_fluxes_cube=averaged_fluxes_cube_real, \n",
    "                           averaged_fluxes_cube_sim=averaged_fluxes_cube_sim,\n",
    "                           acf=acf_real, \n",
    "                           acf_sim=acf_sim,\n",
    "                           duration=duration_distr_real, \n",
    "                           duration_sim=duration_distr_sim,\n",
    "                           n_of_pulses=None,\n",
    "                           n_of_pulses_sim=None,\n",
    "                           log=False, verbose=True)\n",
    "    fitness = 1.0 / (l2_loss + 1.e-9)\n",
    "    return fitness\n",
    "\n",
    "#------------------------------------------------------------------------------#"
   ]
  },
  {
   "cell_type": "code",
   "execution_count": 8,
   "id": "e82f87cf",
   "metadata": {},
   "outputs": [],
   "source": [
    "last_fitness, last_loss, current_fitness, current_loss = 0, 0, 0, 0\n",
    "def on_generation(ga_instance):\n",
    "    global last_fitness, last_loss, current_fitness, current_loss\n",
    "    print('--------------------------------------------------------------------------------')\n",
    "    print(\"Generation     = {generation}\".format(generation=ga_instance.generations_completed))\n",
    "    current_fitness = ga_instance.best_solution(pop_fitness=ga_instance.last_generation_fitness)[1]\n",
    "    current_loss    = current_fitness**(-1)                \n",
    "    print(\"Best Loss      = {solution_loss}\".format(solution_loss=current_loss))\n",
    "    print(\"Best Fitness   = {fitness}\".format(fitness=current_fitness))\n",
    "    print(\"Fitness Change = {change}\".format(change=current_fitness-last_fitness))\n",
    "    last_fitness = current_fitness\n",
    "    last_loss    = current_loss\n",
    "    # Returning the details of the best solution in the current generation.\n",
    "    solution, solution_fitness, solution_idx = ga_instance.best_solution(ga_instance.last_generation_fitness)\n",
    "    print(\"Parameters of the best solution in the current generation:\")\n",
    "    print(\"    - mu      = {solution}\".format(solution=solution[0]))\n",
    "    print(\"    - mu0     = {solution}\".format(solution=solution[1]))\n",
    "    print(\"    - alpha   = {solution}\".format(solution=solution[2]))\n",
    "    print(\"    - delta1  = {solution}\".format(solution=solution[3]))\n",
    "    print(\"    - delta2  = {solution}\".format(solution=solution[4]))\n",
    "    print(\"    - tau_min = {solution}\".format(solution=10**(solution[5])))\n",
    "    print(\"    - tau_max = {solution}\".format(solution=solution[6]))"
   ]
  },
  {
   "cell_type": "code",
   "execution_count": 9,
   "id": "fc8d53d7",
   "metadata": {},
   "outputs": [
    {
     "name": "stdout",
     "output_type": "stream",
     "text": [
      "----------------------------------------------------------------------\n",
      "                           PyGAD Lifecycle                           \n",
      "======================================================================\n",
      "Step                   Handler                            Output Shape\n",
      "======================================================================\n",
      "Fitness Function       fitness_func()                     (1)      \n",
      "----------------------------------------------------------------------\n",
      "Parent Selection       steady_state_selection()           (50, 7)  \n",
      "Number of Parents: 50\n",
      "----------------------------------------------------------------------\n",
      "Crossover              scattered_crossover()              (50, 7)  \n",
      "Crossover probability: 0.5\n",
      "----------------------------------------------------------------------\n",
      "Mutation               random_mutation()                  (50, 7)  \n",
      "Mutation Probability: 0.01\n",
      "Mutation Genes: 1\n",
      "Random Mutation Range: (-1.0, 1.0)\n",
      "Gene Space: [{'low': 0.9, 'high': 2}, {'low': 0.9, 'high': 2}, {'low': 1, 'high': 15}, {'low': -1.5, 'high': -0.250001}, {'low': 0.0, 'high': 0.25}, {'low': -6.0, 'high': -1.1938268119204076}, {'low': 15.064, 'high': 60}]\n",
      "Mutation by Replacement: False\n",
      "Allow Duplicated Genes: True\n",
      "----------------------------------------------------------------------\n",
      "On Generation          on_generation()                    None     \n",
      "----------------------------------------------------------------------\n",
      "======================================================================\n",
      "Population Size: (500, 7)\n",
      "Number of Generations: 1\n",
      "Initial Population Range: (-4, 4)\n",
      "Keep Parents: 0\n",
      "Gene DType: [<class 'float'>, None]\n",
      "Random Seed: 42\n",
      "Save Best Solutions: True\n",
      "Save Solutions: True\n",
      "======================================================================\n"
     ]
    },
    {
     "name": "stderr",
     "output_type": "stream",
     "text": [
      "/Users/lorenzo/miniconda3/envs/astro/lib/python3.9/site-packages/pygad/pygad.py:669: UserWarning: The steady-state parent (sss) selection operator is used despite that no parents are kept in the next generation.\n",
      "  if not self.suppress_warnings: warnings.warn(\"The steady-state parent (sss) selection operator is used despite that no parents are kept in the next generation.\")\n",
      "/Users/lorenzo/miniconda3/envs/astro/lib/python3.9/site-packages/pygad/pygad.py:932: UserWarning: Use the 'save_best_solutions' parameter with caution as it may cause memory overflow when either the number of generations or number of genes is large.\n",
      "  if not self.suppress_warnings: warnings.warn(\"Use the 'save_best_solutions' parameter with caution as it may cause memory overflow when either the number of generations or number of genes is large.\")\n",
      "/Users/lorenzo/miniconda3/envs/astro/lib/python3.9/site-packages/pygad/pygad.py:940: UserWarning: Use the 'save_solutions' parameter with caution as it may cause memory overflow when either the number of generations, number of genes, or number of solutions in population is large.\n",
      "  if not self.suppress_warnings: warnings.warn(\"Use the 'save_solutions' parameter with caution as it may cause memory overflow when either the number of generations, number of genes, or number of solutions in population is large.\")\n"
     ]
    }
   ],
   "source": [
    "num_generations    = 1  # Number of generations.\n",
    "num_parents_mating = 50  # Number of solutions to be selected as parents in the mating pool.\n",
    "sol_per_pop        = 500 # Number of solutions in the population.\n",
    "\n",
    "num_genes = len(range_constraints) # 7\n",
    "\n",
    "ga_GRB = pygad.GA(num_generations=num_generations,\n",
    "                  num_parents_mating=num_parents_mating,\n",
    "                  sol_per_pop=sol_per_pop,\n",
    "                  num_genes=num_genes,\n",
    "                  gene_type=float,\n",
    "                  initial_population=None,       # if 'None', the initial population is randomly chosen using the 'sol_per_pop; and 'num_genes' parameters\n",
    "                  on_generation=on_generation,\n",
    "                  ### fitness function:\n",
    "                  fitness_func=fitness_func,\n",
    "                  ### parent selection:\n",
    "                  parent_selection_type=\"sss\",         # select the best individuals in the current generation as parents for producing the offspring of the next generation\n",
    "                  keep_parents=0,                      # keep NO parents (the ones selected for mating in the current population) in the next population\n",
    "                  keep_elitism=0, #int(sol_per_pop*0.05),  # keep in the next generation the best N solution of the current generation\n",
    "                  ### crossover:\n",
    "                  crossover_probability=0.5,     # 'None' means couples parent k with parent k+1, otherwise it selects from the parents candidate list each one of them with probability 'crossover_probability', and then it takes two of them at random\n",
    "                  crossover_type=\"scattered\",\n",
    "                  ### mutation:\n",
    "                  mutation_type=\"random\",\n",
    "                  mutation_probability=0.01,     # by default is 'None', otherwise it selects a value randomly from the current gene's space (each gene is changed with probability 'mutation_probability')\n",
    "                  ### set range of parameters:\n",
    "                  gene_space=range_constraints,\n",
    "                  ### other stuff:\n",
    "                  save_best_solutions=True,\n",
    "                  save_solutions=True,\n",
    "                  parallel_processing=None, #[\"thread\", 12], # =None,\n",
    "                  random_seed=seed)\n",
    "\n",
    "ga_GRB.summary()"
   ]
  },
  {
   "cell_type": "code",
   "execution_count": 10,
   "id": "2cf74b88",
   "metadata": {
    "tags": []
   },
   "outputs": [
    {
     "name": "stdout",
     "output_type": "stream",
     "text": [
      "--------------------------------------------------------------------------------\n",
      "Generation     = 1\n",
      "Best Loss      = 1.5482016627686792\n",
      "Best Fitness   = 0.6459106872496704\n",
      "Fitness Change = 0.6459106872496704\n",
      "Parameters of the best solution in the current generation:\n",
      "    - mu      = 1.375580849043682\n",
      "    - mu0     = 0.9342640020727302\n",
      "    - alpha   = 4.140108765990631\n",
      "    - delta1  = -0.6711916732929137\n",
      "    - delta2  = 0.2197964431503119\n",
      "    - tau_min = 1.4784499024168399e-05\n",
      "    - tau_max = 40.108503051932686\n"
     ]
    }
   ],
   "source": [
    "# Running the GA to optimize the parameters of the function.\n",
    "ga_GRB.run()\n",
    "#ga_GRB.plot_fitness()"
   ]
  },
  {
   "cell_type": "code",
   "execution_count": 11,
   "id": "50732d97",
   "metadata": {},
   "outputs": [
    {
     "data": {
      "text/plain": [
       "(1000, 7)"
      ]
     },
     "execution_count": 11,
     "metadata": {},
     "output_type": "execute_result"
    }
   ],
   "source": [
    "# ALL the solutions in each generation are stored inside: ga_GRB.solutions\n",
    "np.shape(ga_GRB.solutions)"
   ]
  },
  {
   "cell_type": "code",
   "execution_count": 12,
   "id": "cd345f9c",
   "metadata": {},
   "outputs": [
    {
     "data": {
      "text/plain": [
       "(1000,)"
      ]
     },
     "execution_count": 12,
     "metadata": {},
     "output_type": "execute_result"
    }
   ],
   "source": [
    "# ALL the fitness values in each generation are stored inside: ga_GRB.solutions_fitness\n",
    "np.shape(ga_GRB.solutions_fitness)"
   ]
  },
  {
   "cell_type": "code",
   "execution_count": 13,
   "id": "52ecb956",
   "metadata": {},
   "outputs": [],
   "source": [
    "# all solutions in the LAST epoch:\n",
    "last_gen_sol     = np.array(ga_GRB.solutions[-sol_per_pop:])\n",
    "last_gen_fitness = np.array(ga_GRB.solutions_fitness[-sol_per_pop:])\n",
    "#\n",
    "last_gen_mu      = np.array(last_gen_sol[:,0]) # array with all the mu      of the LAST generation \n",
    "last_gen_mu0     = np.array(last_gen_sol[:,1]) # array with all the mu0     of the LAST generation\n",
    "last_gen_alpha   = np.array(last_gen_sol[:,2]) # array with all the alpha   of the LAST generation\n",
    "last_gen_delta1  = np.array(last_gen_sol[:,3]) # array with all the delta1  of the LAST generation\n",
    "last_gen_delta2  = np.array(last_gen_sol[:,4]) # array with all the delta1  of the LAST generation\n",
    "last_gen_tau_min = np.array(last_gen_sol[:,5]) # array with all the tau_min of the LAST generation\n",
    "last_gen_tau_max = np.array(last_gen_sol[:,6]) # array with all the tau_max of the LAST generation"
   ]
  },
  {
   "cell_type": "code",
   "execution_count": 14,
   "metadata": {},
   "outputs": [
    {
     "data": {
      "text/plain": [
       "(500, 7)"
      ]
     },
     "execution_count": 14,
     "metadata": {},
     "output_type": "execute_result"
    }
   ],
   "source": [
    "np.shape(last_gen_sol)"
   ]
  },
  {
   "cell_type": "code",
   "execution_count": 15,
   "id": "84b9516c",
   "metadata": {},
   "outputs": [
    {
     "data": {
      "text/plain": [
       "500"
      ]
     },
     "execution_count": 15,
     "metadata": {},
     "output_type": "execute_result"
    }
   ],
   "source": [
    "len(last_gen_tau_max)"
   ]
  },
  {
   "cell_type": "code",
   "execution_count": 17,
   "id": "70fadaaa",
   "metadata": {},
   "outputs": [
    {
     "data": {
      "text/html": [
       "<div>\n",
       "<style scoped>\n",
       "    .dataframe tbody tr th:only-of-type {\n",
       "        vertical-align: middle;\n",
       "    }\n",
       "\n",
       "    .dataframe tbody tr th {\n",
       "        vertical-align: top;\n",
       "    }\n",
       "\n",
       "    .dataframe thead th {\n",
       "        text-align: right;\n",
       "    }\n",
       "</style>\n",
       "<table border=\"1\" class=\"dataframe\">\n",
       "  <thead>\n",
       "    <tr style=\"text-align: right;\">\n",
       "      <th></th>\n",
       "      <th>mu</th>\n",
       "      <th>mu0</th>\n",
       "      <th>alpha</th>\n",
       "      <th>delta1</th>\n",
       "      <th>delta2</th>\n",
       "      <th>tau_min</th>\n",
       "      <th>tau_max</th>\n",
       "      <th>fitness</th>\n",
       "    </tr>\n",
       "  </thead>\n",
       "  <tbody>\n",
       "    <tr>\n",
       "      <th>0</th>\n",
       "      <td>1.415562</td>\n",
       "      <td>1.356301</td>\n",
       "      <td>1.064848</td>\n",
       "      <td>-1.429531</td>\n",
       "      <td>0.216181</td>\n",
       "      <td>-3.417184</td>\n",
       "      <td>56.398632</td>\n",
       "      <td>0.454487</td>\n",
       "    </tr>\n",
       "    <tr>\n",
       "      <th>1</th>\n",
       "      <td>1.140976</td>\n",
       "      <td>1.331690</td>\n",
       "      <td>12.432392</td>\n",
       "      <td>-0.951082</td>\n",
       "      <td>0.200646</td>\n",
       "      <td>-3.776281</td>\n",
       "      <td>28.606716</td>\n",
       "      <td>0.353002</td>\n",
       "    </tr>\n",
       "    <tr>\n",
       "      <th>2</th>\n",
       "      <td>1.419743</td>\n",
       "      <td>1.149997</td>\n",
       "      <td>2.024743</td>\n",
       "      <td>-1.153982</td>\n",
       "      <td>0.167053</td>\n",
       "      <td>-4.407489</td>\n",
       "      <td>36.724997</td>\n",
       "      <td>0.427025</td>\n",
       "    </tr>\n",
       "    <tr>\n",
       "      <th>3</th>\n",
       "      <td>1.092908</td>\n",
       "      <td>1.905853</td>\n",
       "      <td>6.862787</td>\n",
       "      <td>-0.745690</td>\n",
       "      <td>0.167053</td>\n",
       "      <td>-5.774273</td>\n",
       "      <td>22.536109</td>\n",
       "      <td>0.334736</td>\n",
       "    </tr>\n",
       "    <tr>\n",
       "      <th>4</th>\n",
       "      <td>1.244056</td>\n",
       "      <td>1.619776</td>\n",
       "      <td>7.207320</td>\n",
       "      <td>-1.482023</td>\n",
       "      <td>0.191088</td>\n",
       "      <td>-3.002183</td>\n",
       "      <td>49.318831</td>\n",
       "      <td>0.425317</td>\n",
       "    </tr>\n",
       "  </tbody>\n",
       "</table>\n",
       "</div>"
      ],
      "text/plain": [
       "         mu       mu0      alpha    delta1    delta2   tau_min    tau_max   \n",
       "0  1.415562  1.356301   1.064848 -1.429531  0.216181 -3.417184  56.398632  \\\n",
       "1  1.140976  1.331690  12.432392 -0.951082  0.200646 -3.776281  28.606716   \n",
       "2  1.419743  1.149997   2.024743 -1.153982  0.167053 -4.407489  36.724997   \n",
       "3  1.092908  1.905853   6.862787 -0.745690  0.167053 -5.774273  22.536109   \n",
       "4  1.244056  1.619776   7.207320 -1.482023  0.191088 -3.002183  49.318831   \n",
       "\n",
       "    fitness  \n",
       "0  0.454487  \n",
       "1  0.353002  \n",
       "2  0.427025  \n",
       "3  0.334736  \n",
       "4  0.425317  "
      ]
     },
     "execution_count": 17,
     "metadata": {},
     "output_type": "execute_result"
    }
   ],
   "source": [
    "data_last_gen = {\n",
    "    'mu': last_gen_mu,\n",
    "    'mu0': last_gen_mu0,\n",
    "    'alpha': last_gen_alpha,\n",
    "    'delta1': last_gen_delta1,\n",
    "    'delta2': last_gen_delta2,\n",
    "    'tau_min': last_gen_tau_min,\n",
    "    'tau_max': last_gen_tau_max,\n",
    "    'fitness': last_gen_fitness\n",
    "}\n",
    "\n",
    "df_last_gen = pd.DataFrame(data_last_gen)\n",
    "#df_last_gen.to_csv('./df_last_gen.csv', index=False)\n",
    "df_last_gen.head()"
   ]
  },
  {
   "cell_type": "code",
   "execution_count": null,
   "id": "ca422c6b",
   "metadata": {},
   "outputs": [],
   "source": []
  },
  {
   "cell_type": "code",
   "execution_count": null,
   "id": "236d30a9",
   "metadata": {},
   "outputs": [],
   "source": []
  },
  {
   "cell_type": "code",
   "execution_count": null,
   "id": "4aba3fad",
   "metadata": {},
   "outputs": [],
   "source": []
  },
  {
   "cell_type": "code",
   "execution_count": 11,
   "id": "fc4bc023",
   "metadata": {},
   "outputs": [
    {
     "name": "stdout",
     "output_type": "stream",
     "text": [
      "* Parameters of the best solution:\n",
      "    - mu      = 1.0739316550896338\n",
      "    - mu0     = 1.043554634379451\n",
      "    - alpha   = 5.884264748424236\n",
      "    - delta1  = -0.7516774934121884\n",
      "    - delta2  = 0.03900466011060913\n",
      "    - tau_min = 0.03635031910442075\n",
      "    - tau_max = 25.976322171998603\n",
      "* Loss value of the best solution    : 2.7025136662622136\n",
      "* Fitness value of the best solution : 0.37002588089890315\n",
      "* Best fitness value reached after N=2 generations.\n"
     ]
    }
   ],
   "source": [
    "# Returning the details of the BEST solution.\n",
    "solution, solution_fitness, solution_idx = ga_GRB.best_solution(ga_GRB.last_generation_fitness)\n",
    "print(\"* Parameters of the best solution:\")\n",
    "print(\"    - mu      = {solution}\".format(solution=solution[0]))\n",
    "print(\"    - mu0     = {solution}\".format(solution=solution[1]))\n",
    "print(\"    - alpha   = {solution}\".format(solution=solution[2]))\n",
    "print(\"    - delta1  = {solution}\".format(solution=solution[3]))\n",
    "print(\"    - delta2  = {solution}\".format(solution=solution[4]))\n",
    "print(\"    - tau_min = {solution}\".format(solution=10**(solution[5])))\n",
    "print(\"    - tau_max = {solution}\".format(solution=solution[6]))\n",
    "print(\"* Loss value of the best solution    : {solution_loss}\".format(solution_loss=solution_fitness**(-1)))\n",
    "print(\"* Fitness value of the best solution : {solution_fitness}\".format(solution_fitness=solution_fitness))\n",
    "#print(\"Index of the best solution          : {solution_idx}\".format(solution_idx=solution_idx))\n",
    "\n",
    "if ga_GRB.best_solution_generation != -1:\n",
    "    print(\"* Best fitness value reached after N={best_solution_generation} generations.\".format(best_solution_generation=ga_GRB.best_solution_generation))"
   ]
  },
  {
   "cell_type": "code",
   "execution_count": 13,
   "id": "21c85bc2-ea65-4d75-a7e6-efd4de954ebf",
   "metadata": {},
   "outputs": [],
   "source": [
    "### PARAMETERS FROM THE PAPER:\n",
    "# mu=1.2\n",
    "# mu0=1\n",
    "# alpha=4\n",
    "# delta1=-0.5\n",
    "# delta2=0\n",
    "# tau_min=0.02\n",
    "# tau_max=26"
   ]
  },
  {
   "cell_type": "code",
   "execution_count": 14,
   "id": "09fdbdc2",
   "metadata": {},
   "outputs": [],
   "source": [
    "# Saving the GA instance.\n",
    "# filename = 'genetic' # The filename to which the instance is saved. The name is without extension.\n",
    "# ga_GRB.save(filename=filename)\n",
    "\n",
    "# Loading the saved GA instance.\n",
    "# loaded_ga_GRB = pygad.load(filename=filename)\n",
    "# loaded_ga_GRB.plot_fitness()"
   ]
  },
  {
   "cell_type": "code",
   "execution_count": 12,
   "id": "793af480",
   "metadata": {},
   "outputs": [
    {
     "name": "stdout",
     "output_type": "stream",
     "text": [
      "inv_fit[-1] = 2.7025136662622136\n"
     ]
    },
    {
     "data": {
      "image/png": "[encoded data removed]",
      "text/plain": [
       "<Figure size 432x288 with 1 Axes>"
      ]
     },
     "metadata": {
      "image/png": {
       "height": 260,
       "width": 381
      }
     },
     "output_type": "display_data"
    },
    {
     "data": {
      "image/png": "[encoded data removed]",
      "text/plain": [
       "<Figure size 432x288 with 1 Axes>"
      ]
     },
     "metadata": {
      "image/png": {
       "height": 260,
       "width": 386
      }
     },
     "output_type": "display_data"
    },
    {
     "data": {
      "image/png": "[encoded data removed]",
      "text/plain": [
       "<Figure size 432x288 with 1 Axes>"
      ]
     },
     "metadata": {
      "image/png": {
       "height": 260,
       "width": 391
      }
     },
     "output_type": "display_data"
    }
   ],
   "source": [
    "inv_fit = (np.array(ga_GRB.best_solutions_fitness))**(-1)\n",
    "print('inv_fit[-1] =', inv_fit[-1])\n",
    "plt.plot(inv_fit, ls='-', lw=2, c='b')\n",
    "#plt.yscale('log')\n",
    "plt.xlabel('Generation')\n",
    "plt.ylabel(r'Best Loss')\n",
    "plt.show()\n",
    "\n",
    "loss_list = ga_GRB.solutions_fitness  \n",
    "#print(len(loss_list))\n",
    "avg_loss  = np.zeros(num_generations+1)\n",
    "std_loss  = np.zeros(num_generations+1)\n",
    "for i in range(num_generations+1):\n",
    "        avg_loss[i] = np.mean( loss_list[i*sol_per_pop:(i+1)*sol_per_pop] )\n",
    "        std_loss[i] = np.std(  loss_list[i*sol_per_pop:(i+1)*sol_per_pop] )\n",
    "plt.errorbar(np.arange(num_generations+1), avg_loss, yerr=std_loss/np.sqrt(sol_per_pop), ls='-', lw=    2, c='b')\n",
    "#plt.yscale('log')\n",
    "plt.xlabel('Generation')\n",
    "plt.ylabel(r'Average Loss')\n",
    "plt.show()\n",
    " \n",
    "plt.plot(std_loss, ls='-', lw=2, c='b')\n",
    "plt.xlabel('Generation')\n",
    "plt.ylabel(r'Standard Deviation of the loss')\n",
    "plt.show()"
   ]
  },
  {
   "cell_type": "code",
   "execution_count": null,
   "id": "a3812bb6-86f1-4182-b1f7-bafc35910eb2",
   "metadata": {},
   "outputs": [],
   "source": []
  },
  {
   "cell_type": "code",
   "execution_count": null,
   "id": "efc120f0",
   "metadata": {},
   "outputs": [],
   "source": []
  },
  {
   "cell_type": "code",
   "execution_count": null,
   "id": "50de99e7-e023-4ef7-818f-450b58e6e9d7",
   "metadata": {},
   "outputs": [],
   "source": []
  },
  {
   "attachments": {},
   "cell_type": "markdown",
   "id": "0eec7256-0052-4a70-b7df-04d645882f19",
   "metadata": {},
   "source": [
    "# DEBUG"
   ]
  },
  {
   "cell_type": "code",
   "execution_count": 54,
   "id": "10678f75-3ee0-49cf-b540-7e07f4982a44",
   "metadata": {},
   "outputs": [
    {
     "data": {
      "image/png": "[encoded data removed]",
      "text/plain": [
       "<Figure size 432x288 with 1 Axes>"
      ]
     },
     "metadata": {
      "image/png": {
       "height": 247,
       "width": 368
      },
      "needs_background": "light"
     },
     "output_type": "display_data"
    }
   ],
   "source": [
    "a = 1.e-8\n",
    "b = 1\n",
    "linspace  = np.linspace(         a,           b,  num=10)\n",
    "logspace  = np.logspace(np.log10(a), np.log10(b), num=10)\n",
    "logspace_ = np.linspace(np.log10(a), np.log10(b), num=10)\n",
    "\n",
    "plt.plot(linspace,      'go', label='LINspace')\n",
    "plt.plot(logspace,      'rs', label='LINspace')\n",
    "plt.plot(10**logspace_, 'bx', label='LOG starting from LIN')\n",
    "plt.legend()\n",
    "plt.show()"
   ]
  }
 ],
 "metadata": {
  "kernelspec": {
   "display_name": "Python 3 (ipykernel)",
   "language": "python",
   "name": "python3"
  },
  "language_info": {
   "codemirror_mode": {
    "name": "ipython",
    "version": 3
   },
   "file_extension": ".py",
   "mimetype": "text/x-python",
   "name": "python",
   "nbconvert_exporter": "python",
   "pygments_lexer": "ipython3",
   "version": "3.9.16"
  }
 },
 "nbformat": 4,
 "nbformat_minor": 5
}
