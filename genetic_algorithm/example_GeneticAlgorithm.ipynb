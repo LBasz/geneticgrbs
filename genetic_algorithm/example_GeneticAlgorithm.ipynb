{
 "cells": [
  {
   "cell_type": "code",
   "execution_count": 1,
   "id": "302321a0",
   "metadata": {},
   "outputs": [],
   "source": [
    "################################################################################\n",
    "# IMPORT LIBRARIES\n",
    "################################################################################\n",
    "\n",
    "import os\n",
    "import sys\n",
    "import pygad\n",
    "#import yaml, h5py\n",
    "import numpy as np\n",
    "import pandas as pd\n",
    "import matplotlib.pyplot as plt\n",
    "\n",
    "import seaborn as sns\n",
    "sns.set_style('darkgrid')\n",
    "\n",
    "from matplotlib import rc\n",
    "rc('font', **{'family': 'serif', 'serif': ['Computer Modern']})\n",
    "rc('text', usetex=True)\n",
    "\n",
    "%config InlineBackend.figure_format='retina' # very useful command for high-res images\n",
    "%matplotlib inline\n",
    "\n",
    "seed=42\n",
    "np.random.seed(seed)\n",
    "\n",
    "# set the username for the path of the files:\n",
    "user='LB'\n",
    "#user='AF'\n",
    "#user='bach'\n",
    "if user=='bach':\n",
    "    # library paths\n",
    "    sys.path.append('/home/bazzanini/PYTHON/genetic/lc_pulse_avalanche/statistical_test')\n",
    "    sys.path.append('/home/bazzanini/PYTHON/genetic/lc_pulse_avalanche/lc_pulse_avalanche')\n",
    "    # real data\n",
    "    batse_path = '/astrodata/guidorzi/CGRO_BATSE/'\n",
    "    swift_path = '/astrodata/guidorzi/Swift_BAT/'\n",
    "    sax_path   = '/astrodata/guidorzi/BeppoSAX_GRBM/'\n",
    "elif user=='LB':\n",
    "    # library paths\n",
    "    sys.path.append('/home/lorenzo/git/lc_pulse_avalanche/statistical_test')\n",
    "    sys.path.append('/home/lorenzo/git/lc_pulse_avalanche/lc_pulse_avalanche')\n",
    "    # real data\n",
    "    batse_path = '/home/lorenzo/Desktop/Astrophysics/PYTHON/DATA/CGRO_BATSE/'\n",
    "    swift_path = '/home/lorenzo/Desktop/Astrophysics/PYTHON/DATA/Swift_BAT/'\n",
    "    sax_path   = '/home/lorenzo/Desktop/Astrophysics/PYTHON/DATA/BeppoSAX_GRBM/'\n",
    "elif user=='AF':\n",
    "    # libraries\n",
    "    sys.path.append('......WRITE_HERE....../lc_pulse_avalanche/statistical_test')\n",
    "    sys.path.append('......WRITE_HERE....../lc_pulse_avalanche/lc_pulse_avalanche')\n",
    "    # real data\n",
    "    batse_path = 'E:/grb_to_test/CGRO_BATSE/'\n",
    "    swift_path = 'E:/grb_to_test/Swift_BAT/'\n",
    "    sax_path   = 'E:/grb_to_test/BeppoSAX_GRBM/'\n",
    "else:\n",
    "    raise ValueError('Assign to the variable \"user\" a correct username!')\n",
    "\n",
    "from statistical_test import *\n",
    "from avalanche import LC, Restored_LC"
   ]
  },
  {
   "cell_type": "code",
   "execution_count": 2,
   "id": "4f406331",
   "metadata": {},
   "outputs": [],
   "source": [
    "################################################################################\n",
    "# SET PARAMETERS\n",
    "################################################################################\n",
    "\n",
    "# choose the instrument\n",
    "instrument = 'batse'\n",
    "#instrument = 'swift'\n",
    "#instrument = 'sax'\n",
    "\n",
    "#------------------------------------------------------------------------------#\n",
    "\n",
    "if instrument=='batse':\n",
    "    t_i           = 0     # [s]\n",
    "    t_f           = 150   # [s]\n",
    "    eff_area      = 3600  # effective area of instrument [cm2]\n",
    "    bg_level      = 10.67 # background level [cnt/cm2/s]\n",
    "    t90_threshold = 2     # [s] --> used to select only _long_ GRBs\n",
    "    sn_threshold  = 70    # signal-to-noise ratio\n",
    "    bin_time      = 0.064 # [s] temporal bins for BATSE (its time resolution)\n",
    "    test_times    = np.linspace(t_i, t_f, int((t_f-t_i)/bin_time))\n",
    "elif instrument=='swift':\n",
    "    t_i           = 0                # [s]\n",
    "    t_f           = 150              # [s]\n",
    "    eff_area      = 1400             # effective area of instrument [cm2]\n",
    "    bg_level      = (10000/eff_area) # background level [cnt/cm2/s]\n",
    "    t90_threshold = 2                # [s] --> used to select only _long_ GRBs\n",
    "    sn_threshold  = 20               # signal-to-noise ratio\n",
    "    bin_time      = 0.064            # [s] temporal bins for Swift (its time resolution)\n",
    "    test_times    = np.linspace(t_i, t_f, int((t_f-t_i)/bin_time))\n",
    "elif instrument=='sax':\n",
    "    t_i           = 0               # [s]\n",
    "    #t_f          = 150             # [s]\n",
    "    t_f           = 50              # [s] (HR)\n",
    "    eff_area      = 420             # effective area of instrument [cm2]\n",
    "    bg_level      = (1000/eff_area) # background level [cnt/cm2/s]\n",
    "    t90_threshold = 2               # [s] --> used to select only _long_ GRBs\n",
    "    sn_threshold  = 10              # signal-to-noise ratio\n",
    "    #bin_time     = 1.0             # [s] temporal bins for BeppoSAX\n",
    "    bin_time      = 0.0078125       # [s] temporal bins for BeppoSAX (HR)\n",
    "    test_times    = np.linspace(t_i, t_f, int((t_f-t_i)/bin_time))\n",
    "else:\n",
    "    raise NameError('Variable \"instrument\" not defined properly; choose between: \"batse\", \"swift\", \"sax\".')\n",
    "\n",
    "#------------------------------------------------------------------------------#\n",
    "\n",
    "# The values of the 7 parameters from the paper [Stern & Svensson, 1996] are\n",
    "# mu=1.2\n",
    "# mu0=1\n",
    "# alpha=4\n",
    "# delta1=-0.5\n",
    "# delta2=0\n",
    "# tau_min=0.02\n",
    "# tau_max=26\n",
    "\n",
    "# We impose constraints on the range of values that the 7 parameter can assume\n",
    "range_mu      = {\"low\": 0.6,            \"high\": 1.4}\n",
    "range_mu0     = {\"low\": 0.6,            \"high\": 1.4} \n",
    "range_alpha   = {\"low\": 1,               \"high\": 10} \n",
    "range_delta1  = {\"low\": -1.5,            \"high\": -0.25-1.e-6} \n",
    "range_delta2  = {\"low\": 0.0,             \"high\": 0.25} \n",
    "range_tau_min = {\"low\": np.log10(1.e-6), \"high\": np.log10(bin_time-1.e-6)} # sample uniformly in log space\n",
    "range_tau_max = {\"low\": bin_time+15,     \"high\": 35} \n",
    "\n",
    "range_constraints = [range_mu, \n",
    "                     range_mu0,\n",
    "                     range_alpha,\n",
    "                     range_delta1, \n",
    "                     range_delta2, \n",
    "                     range_tau_min, \n",
    "                     range_tau_max]\n",
    "\n",
    "#------------------------------------------------------------------------------#"
   ]
  },
  {
   "cell_type": "code",
   "execution_count": 3,
   "id": "0f12a03b",
   "metadata": {},
   "outputs": [
    {
     "name": "stderr",
     "output_type": "stream",
     "text": [
      "100%|██████████| 1457/1457 [00:52<00:00, 27.52it/s]\n"
     ]
    },
    {
     "name": "stdout",
     "output_type": "stream",
     "text": [
      "Total number of _long_ GRBs in BATSE catalogue:  1457\n",
      "GRBs in the catalogue which are NOT present in the data folder:  0\n",
      "Loaded GRBs:  1457\n",
      "Total number of input GRBs:  1457\n",
      "GRBs that satisfy the constraints:  578\n"
     ]
    }
   ],
   "source": [
    "################################################################################\n",
    "# LOAD REAL DATA\n",
    "################################################################################\n",
    "\n",
    "### Load the BATSE GRBs\n",
    "if instrument=='batse': \n",
    "    # load all data\n",
    "    grb_list_real = load_lc_batse(path=batse_path) \n",
    "    # apply constraints\n",
    "    grb_list_real = apply_constraints(grb_list=grb_list_real, \n",
    "                                      bin_time=bin_time, \n",
    "                                      t90_threshold=t90_threshold, \n",
    "                                      sn_threshold=sn_threshold, \n",
    "                                      t_f=t_f)\n",
    "### Load the Swift GRBs\n",
    "elif instrument=='swift': \n",
    "    # load all data\n",
    "    grb_list_real = load_lc_swift(path=swift_path)\n",
    "    # apply constraints\n",
    "    grb_list_real = apply_constraints(grb_list=grb_list_real, \n",
    "                                      bin_time=bin_time, \n",
    "                                      t90_threshold=t90_threshold, \n",
    "                                      sn_threshold=sn_threshold, \n",
    "                                      t_f=t_f)\n",
    "### Load the BeppoSAX GRBs\n",
    "elif instrument=='sax': \n",
    "    # load all (HR) data\n",
    "    grb_list_real = load_lc_sax_hr(path=sax_path) \n",
    "    # apply constraints\n",
    "    grb_list_real = apply_constraints(grb_list=grb_list_real, \n",
    "                                      bin_time=bin_time, \n",
    "                                      t90_threshold=t90_threshold, \n",
    "                                      sn_threshold=sn_threshold, \n",
    "                                      t_f=t_f)\n",
    "else:\n",
    "    raise NameError('Variable \"instrument\" not defined properly; choose between: \"batse\", \"swift\", \"sax\".')"
   ]
  },
  {
   "cell_type": "code",
   "execution_count": 4,
   "id": "7a45a884-a607-480a-83fc-5f3171b886d4",
   "metadata": {},
   "outputs": [],
   "source": [
    "# Set the number of simulated GRBs to produce equal to the number of real GRBs\n",
    "# that passed the constraint selection\n",
    "N_grb=10#len(grb_list_real)"
   ]
  },
  {
   "cell_type": "code",
   "execution_count": 5,
   "id": "77878ef0",
   "metadata": {},
   "outputs": [],
   "source": [
    "################################################################################\n",
    "# PERFORM TESTS ON REAL DATA\n",
    "################################################################################\n",
    "\n",
    "#------------------------------------------------------------------------------#\n",
    "### TEST 1&2: Average Peak-Aligned Profiles\n",
    "averaged_fluxes_real, \\\n",
    "averaged_fluxes_cube_real, \\\n",
    "averaged_fluxes_rms_real = compute_average_quantities(grb_list=grb_list_real, \n",
    "                                                      t_f=t_f, \n",
    "                                                      bin_time=bin_time,\n",
    "                                                      filter=True)\n",
    "#------------------------------------------------------------------------------#\n",
    "## TEST 3: Autocorrelation\n",
    "N_lim = np.min( [N_grb, len(grb_list_real)] ) # N_grb is set equal to len(grb_list_real)\n",
    "steps_real, acf_real = compute_autocorrelation(grb_list=grb_list_real,\n",
    "                                               N_lim=N_lim,\n",
    "                                               t_max=t_f,\n",
    "                                               bin_time=bin_time,\n",
    "                                               mode='scipy')\n",
    "#------------------------------------------------------------------------------#\n",
    "### TEST 4: Duration\n",
    "#duration_real = [ evaluateDuration20(times=grb.times, \n",
    "#                                     counts=grb.counts,\n",
    "#                                     filter=True,\n",
    "#                                     t90=grb.t90,\n",
    "#                                     bin_time=bin_time_batse)[0] for grb in grb_list_real ]\n",
    "#------------------------------------------------------------------------------#"
   ]
  },
  {
   "cell_type": "code",
   "execution_count": 6,
   "id": "c7ee5c02-acdf-4474-9bb4-1d90ff4fdf4e",
   "metadata": {},
   "outputs": [],
   "source": [
    "loss_list = []\n",
    "#file = open(\"./sample.txt\", \"w\")\n",
    "def fitness_func(solution, solution_idx=None):\n",
    "    global loss_list\n",
    "    #--------------------------------------------------------------------------#\n",
    "    # Generate the GRBs\n",
    "    #--------------------------------------------------------------------------#\n",
    "    grb_list_sim = generate_GRBs(# number of simulated GRBs to produce\n",
    "                                 N_grb=N_grb,\n",
    "                                 # 7 parameters\n",
    "                                 mu=solution[0],\n",
    "                                 mu0=solution[1],\n",
    "                                 alpha=solution[2],\n",
    "                                 delta1=solution[3],\n",
    "                                 delta2=solution[4],\n",
    "                                 tau_min=10**solution[5],  # sample uniformly in log space\n",
    "                                 tau_max=solution[6],\n",
    "                                 # instrument parameters\n",
    "                                 instrument=instrument,\n",
    "                                 bin_time=bin_time,\n",
    "                                 eff_area=eff_area,\n",
    "                                 bg_level=bg_level,\n",
    "                                 # constraint parameters\n",
    "                                 t90_threshold=t90_threshold,\n",
    "                                 sn_threshold=sn_threshold,\n",
    "                                 t_f=t_f,\n",
    "                                 # other parameters\n",
    "                                 export_files=False,\n",
    "                                 n_cut=2000,\n",
    "                                 with_bg=False)\n",
    "\n",
    "    #--------------------------------------------------------------------------#\n",
    "    # Compute quantities needed for the loss function\n",
    "    #--------------------------------------------------------------------------#\n",
    "    # TEST 1&2: Average Peak-Aligned Profiles\n",
    "    averaged_fluxes_sim, \\\n",
    "    averaged_fluxes_cube_sim, \\\n",
    "    averaged_fluxes_rms_sim = compute_average_quantities(grb_list=grb_list_sim,\n",
    "                                                         t_f=t_f,\n",
    "                                                         bin_time=bin_time,\n",
    "                                                         filter=True)\n",
    "    # TEST 3: Autocorrelation\n",
    "    steps_sim, acf_sim      = compute_autocorrelation(grb_list=grb_list_sim,\n",
    "                                                      N_lim=N_lim,\n",
    "                                                      t_max=t_f,\n",
    "                                                      bin_time=bin_time,\n",
    "                                                      mode='scipy')\n",
    "    # TEST 4: Duration\n",
    "    #--------------------------------------------------------------------------#\n",
    "    # Compute loss\n",
    "    #--------------------------------------------------------------------------#\n",
    "    l2_loss = compute_loss(averaged_fluxes=averaged_fluxes_real,\n",
    "                           averaged_fluxes_sim=averaged_fluxes_sim,\n",
    "                           averaged_fluxes_cube=averaged_fluxes_cube_real, \n",
    "                           averaged_fluxes_cube_sim=averaged_fluxes_cube_sim,\n",
    "                           acf=acf_real, \n",
    "                           acf_sim=acf_sim,\n",
    "                           log=False, verbose=True)\n",
    "    #print('l2_loss =', l2_loss)\n",
    "    loss_list.append(l2_loss)\n",
    "    # Saving the loss in a text file\n",
    "    #content = str(l2_loss)\n",
    "    #file.write(content)\n",
    "    #file.write('\\n')\n",
    "    fitness = 1.0 / (l2_loss + 1.e-9)\n",
    "    return fitness\n",
    "\n",
    "#------------------------------------------------------------------------------#\n",
    "\n",
    "last_fitness = 0\n",
    "def on_generation(ga_instance):\n",
    "    global last_fitness\n",
    "    print(\"Generation   = {generation}\".format(generation=ga_instance.generations_completed))\n",
    "    print(\"Best Fitness = {fitness}\".format(fitness=ga_instance.best_solution(pop_fitness=ga_instance.last_generation_fitness)[1]))\n",
    "    #print(\"Change      = {change}\".format(change=ga_GRB.best_solution(pop_fitness=ga_GRB.last_generation_fitness)[1] - last_fitness))\n",
    "    last_fitness = ga_instance.best_solution(pop_fitness=ga_instance.last_generation_fitness)[1]"
   ]
  },
  {
   "cell_type": "code",
   "execution_count": 7,
   "id": "fc8d53d7",
   "metadata": {},
   "outputs": [
    {
     "name": "stdout",
     "output_type": "stream",
     "text": [
      "----------------------------------------------------------------------\n",
      "                           PyGAD Lifecycle                           \n",
      "======================================================================\n",
      "Step                   Handler                             Output Shape\n",
      "======================================================================\n",
      "Fitness Function       fitness_func()                      (1)      \n",
      "----------------------------------------------------------------------\n",
      "Parent Selection       steady_state_selection()            (6, 7)   \n",
      "Number of Parents: 6\n",
      "----------------------------------------------------------------------\n",
      "Crossover              scattered_crossover()               (6, 7)   \n",
      "Crossover probability: 0.5\n",
      "----------------------------------------------------------------------\n",
      "Mutation               random_mutation()                   (6, 7)   \n",
      "Mutation Probability: 0.01\n",
      "Mutation Genes: 1\n",
      "Random Mutation Range: (-1.0, 1.0)\n",
      "Gene Space: [{'low': 0.6, 'high': 1.4}, {'low': 0.6, 'high': 1.4}, {'low': 1, 'high': 10}, {'low': -1.5, 'high': -0.250001}, {'low': 0.0, 'high': 0.25}, {'low': -6.0, 'high': -1.1938268119204076}, {'low': 15.064, 'high': 35}]\n",
      "Mutation by Replacement: False\n",
      "Allow Duplicated Genes: True\n",
      "----------------------------------------------------------------------\n",
      "On Generation          on_generation()                     None     \n",
      "----------------------------------------------------------------------\n",
      "======================================================================\n",
      "Population Size: (10, 7)\n",
      "Number of Generations: 5\n",
      "Initial Population Range: (-4, 4)\n",
      "Keep Parents: 0\n",
      "Gene DType: [<class 'float'>, None]\n",
      "Random Seed: 42\n",
      "Save Best Solutions: True\n",
      "Save Solutions: False\n",
      "======================================================================\n"
     ]
    },
    {
     "name": "stderr",
     "output_type": "stream",
     "text": [
      "/home/lorenzo/miniconda3/envs/tf2/lib/python3.7/site-packages/pygad/pygad.py:669: UserWarning: The steady-state parent (sss) selection operator is used despite that no parents are kept in the next generation.\n",
      "  if not self.suppress_warnings: warnings.warn(\"The steady-state parent (sss) selection operator is used despite that no parents are kept in the next generation.\")\n",
      "/home/lorenzo/miniconda3/envs/tf2/lib/python3.7/site-packages/pygad/pygad.py:932: UserWarning: Use the 'save_best_solutions' parameter with caution as it may cause memory overflow when either the number of generations or number of genes is large.\n",
      "  if not self.suppress_warnings: warnings.warn(\"Use the 'save_best_solutions' parameter with caution as it may cause memory overflow when either the number of generations or number of genes is large.\")\n"
     ]
    }
   ],
   "source": [
    "num_generations    = 5  # Number of generations.\n",
    "num_parents_mating = 6  # Number of solutions to be selected as parents in the mating pool.\n",
    "sol_per_pop        = 10 # Number of solutions in the population.\n",
    "\n",
    "num_genes = len(range_constraints) # 7\n",
    "\n",
    "ga_GRB = pygad.GA(num_generations=num_generations,\n",
    "                  num_parents_mating=num_parents_mating,\n",
    "                  sol_per_pop=sol_per_pop,\n",
    "                  num_genes=num_genes,\n",
    "                  gene_type=float,\n",
    "                  initial_population=None,       # if 'None', the initial population is randomly chosen using the 'sol_per_pop; and 'num_genes' parameters\n",
    "                  on_generation=on_generation,\n",
    "                  ### fitness function:\n",
    "                  fitness_func=fitness_func,\n",
    "                  ### parent selection:\n",
    "                  parent_selection_type=\"sss\",         # select the best individuals in the current generation as parents for producing the offspring of the next generation\n",
    "                  keep_parents=0,                      # keep NO parents (the ones selected for mating in the current population) in the next population\n",
    "                  keep_elitism=0, #int(sol_per_pop*0.05),  # keep in the next generation the best N solution of the current generation\n",
    "                  ### crossover:\n",
    "                  crossover_probability=0.5,     # 'None' means couples parent k with parent k+1, otherwise it selects from the parents candidate list each one of them with probability 'crossover_probability', and then it takes two of them at random\n",
    "                  crossover_type=\"scattered\",\n",
    "                  ### mutation:\n",
    "                  mutation_type=\"random\",\n",
    "                  mutation_probability=0.01,     # by default is 'None', otherwise it selects a value randomly from the current gene's space (each gene is changed with probability 'mutation_probability')\n",
    "                  ### set range of parameters:\n",
    "                  gene_space=range_constraints,\n",
    "                  ### other stuff:\n",
    "                  save_best_solutions=True,\n",
    "                  parallel_processing=None, #[\"thread\", 12], # =None,\n",
    "                  random_seed=seed)\n",
    "\n",
    "ga_GRB.summary()"
   ]
  },
  {
   "cell_type": "code",
   "execution_count": 8,
   "id": "2cf74b88",
   "metadata": {
    "tags": []
   },
   "outputs": [
    {
     "name": "stdout",
     "output_type": "stream",
     "text": [
      "Generation   = 1\n",
      "Best Fitness = 0.5542412844893403\n",
      "Generation   = 2\n",
      "Best Fitness = 0.646237560316745\n",
      "Generation   = 3\n",
      "Best Fitness = 0.5505085946521793\n",
      "Generation   = 4\n",
      "Best Fitness = 0.5900278062710235\n",
      "Generation   = 5\n",
      "Best Fitness = 0.5365532424084462\n"
     ]
    }
   ],
   "source": [
    "# Running the GA to optimize the parameters of the function.\n",
    "ga_GRB.run()\n",
    "#ga_GRB.plot_fitness()\n",
    "#file.close()"
   ]
  },
  {
   "cell_type": "code",
   "execution_count": 9,
   "id": "8c70a859-c62c-475d-bba0-3687c359dd9e",
   "metadata": {},
   "outputs": [
    {
     "data": {
      "text/plain": [
       "60"
      ]
     },
     "execution_count": 9,
     "metadata": {},
     "output_type": "execute_result"
    }
   ],
   "source": [
    "len(loss_list)"
   ]
  },
  {
   "cell_type": "code",
   "execution_count": 10,
   "id": "fc4bc023",
   "metadata": {},
   "outputs": [
    {
     "name": "stdout",
     "output_type": "stream",
     "text": [
      "* Parameters of the best solution:\n",
      "    - mu      = 0.8854026613548713\n",
      "    - mu0     = 1.0808920093945669\n",
      "    - alpha   = 7.372653200164409\n",
      "    - delta1  = -1.2868450159150093\n",
      "    - delta2  = 0.2237068376069122\n",
      "    - tau_min = 0.03635031910442075\n",
      "    - tau_max = 33.80641466239617\n",
      "* Loss value of the best solution    : 1.8637479395544485\n",
      "* Fitness value of the best solution : 0.5365532424084462\n",
      "* Best fitness value reached after N=2 generations.\n"
     ]
    }
   ],
   "source": [
    "# Returning the details of the best solution.\n",
    "solution, solution_fitness, solution_idx = ga_GRB.best_solution(ga_GRB.last_generation_fitness)\n",
    "print(\"* Parameters of the best solution:\")\n",
    "print(\"    - mu      = {solution}\".format(solution=solution[0]))\n",
    "print(\"    - mu0     = {solution}\".format(solution=solution[1]))\n",
    "print(\"    - alpha   = {solution}\".format(solution=solution[2]))\n",
    "print(\"    - delta1  = {solution}\".format(solution=solution[3]))\n",
    "print(\"    - delta2  = {solution}\".format(solution=solution[4]))\n",
    "print(\"    - tau_min = {solution}\".format(solution=10**(solution[5])))\n",
    "print(\"    - tau_max = {solution}\".format(solution=solution[6]))\n",
    "print(\"* Loss value of the best solution    : {solution_loss}\".format(solution_loss=solution_fitness**(-1)))\n",
    "print(\"* Fitness value of the best solution : {solution_fitness}\".format(solution_fitness=solution_fitness))\n",
    "#print(\"Index of the best solution          : {solution_idx}\".format(solution_idx=solution_idx))\n",
    "\n",
    "if ga_GRB.best_solution_generation != -1:\n",
    "    print(\"* Best fitness value reached after N={best_solution_generation} generations.\".format(best_solution_generation=ga_GRB.best_solution_generation))"
   ]
  },
  {
   "cell_type": "code",
   "execution_count": 13,
   "id": "21c85bc2-ea65-4d75-a7e6-efd4de954ebf",
   "metadata": {},
   "outputs": [],
   "source": [
    "### PARAMETERS FROM THE PAPER:\n",
    "# mu=1.2\n",
    "# mu0=1\n",
    "# alpha=4\n",
    "# delta1=-0.5\n",
    "# delta2=0\n",
    "# tau_min=0.02\n",
    "# tau_max=26"
   ]
  },
  {
   "cell_type": "code",
   "execution_count": 14,
   "id": "09fdbdc2",
   "metadata": {},
   "outputs": [],
   "source": [
    "# Saving the GA instance.\n",
    "# filename = 'genetic' # The filename to which the instance is saved. The name is without extension.\n",
    "# ga_GRB.save(filename=filename)\n",
    "\n",
    "# Loading the saved GA instance.\n",
    "# loaded_ga_GRB = pygad.load(filename=filename)\n",
    "# loaded_ga_GRB.plot_fitness()"
   ]
  },
  {
   "cell_type": "code",
   "execution_count": 11,
   "id": "1140d17d-8db5-479f-a44c-614974262269",
   "metadata": {},
   "outputs": [],
   "source": [
    "# avg_loss = np.zeros(num_generations)\n",
    "# std_loss = np.zeros(num_generations)\n",
    "# for i in range(num_generations):\n",
    "#     avg_loss[i] = np.mean(loss_list[i*sol_per_pop:(i+1)*sol_per_pop])\n",
    "#     std_loss[i] = np.std( loss_list[i*sol_per_pop:(i+1)*sol_per_pop])\n",
    "\n",
    "window_size = 5\n",
    "# Convert array of integers to pandas series\n",
    "loss_list = pd.Series(loss_list)\n",
    "# Get the window of series\n",
    "# of observations of specified window size\n",
    "windows = loss_list.rolling(window_size)\n",
    "# Create a series of moving\n",
    "# averages of each window\n",
    "moving_averages = windows.mean().tolist()\n",
    "# Remove null entries from the list\n",
    "loss_list = np.array(moving_averages[window_size - 1:])"
   ]
  },
  {
   "cell_type": "code",
   "execution_count": 16,
   "id": "793af480",
   "metadata": {},
   "outputs": [
    {
     "name": "stdout",
     "output_type": "stream",
     "text": [
      "inv_fit[-1] = 0.5651565080461304\n"
     ]
    },
    {
     "data": {
      "image/png": "[encoded data removed]",
      "text/plain": [
       "<Figure size 432x288 with 1 Axes>"
      ]
     },
     "metadata": {
      "image/png": {
       "height": 260,
       "width": 381
      }
     },
     "output_type": "display_data"
    },
    {
     "data": {
      "image/png": "[encoded data removed]",
      "text/plain": [
       "<Figure size 432x288 with 1 Axes>"
      ]
     },
     "metadata": {
      "image/png": {
       "height": 247,
       "width": 381
      }
     },
     "output_type": "display_data"
    }
   ],
   "source": [
    "inv_fit = (np.array(ga_GRB.best_solutions_fitness))**(-1)\n",
    "print('inv_fit[-1] =', inv_fit[-1])\n",
    "plt.plot(inv_fit, ls='-', lw=2, c='b')\n",
    "#plt.yscale('log')\n",
    "plt.xlabel('Generation')\n",
    "plt.ylabel(r'Best Loss')\n",
    "plt.show()\n",
    "\n",
    "# plt.plot(loss_list, ls='-', lw=2, c='b')\n",
    "# plt.ylabel(r'Average loss') \n",
    "# plt.show()     \n",
    "\n",
    "# plt.errorbar(np.arange(num_generations), avg_loss, yerr=std_loss/np.sqrt(sol_per_pop), ls='-', lw=2, c='b')\n",
    "# #plt.yscale('log')\n",
    "# plt.xlabel('Generation')\n",
    "# plt.ylabel(r'Average Loss')\n",
    "# plt.show()\n",
    "# \n",
    "# plt.plot(std_loss, ls='-', lw=2, c='b')\n",
    "# plt.xlabel('Generation')\n",
    "# plt.ylabel(r'Standard Deviation of the loss')\n",
    "# plt.show()"
   ]
  },
  {
   "cell_type": "code",
   "execution_count": null,
   "id": "5a57b69b",
   "metadata": {},
   "outputs": [],
   "source": []
  },
  {
   "cell_type": "code",
   "execution_count": null,
   "id": "a3812bb6-86f1-4182-b1f7-bafc35910eb2",
   "metadata": {},
   "outputs": [],
   "source": []
  },
  {
   "cell_type": "code",
   "execution_count": null,
   "id": "50de99e7-e023-4ef7-818f-450b58e6e9d7",
   "metadata": {},
   "outputs": [],
   "source": []
  },
  {
   "cell_type": "markdown",
   "id": "0eec7256-0052-4a70-b7df-04d645882f19",
   "metadata": {},
   "source": [
    "# DEBUG"
   ]
  },
  {
   "cell_type": "code",
   "execution_count": 54,
   "id": "10678f75-3ee0-49cf-b540-7e07f4982a44",
   "metadata": {},
   "outputs": [
    {
     "data": {
      "image/png": "[encoded data removed]",
      "text/plain": [
       "<Figure size 432x288 with 1 Axes>"
      ]
     },
     "metadata": {
      "image/png": {
       "height": 247,
       "width": 368
      },
      "needs_background": "light"
     },
     "output_type": "display_data"
    }
   ],
   "source": [
    "a = 1.e-8\n",
    "b = 1\n",
    "linspace  = np.linspace(         a,           b,  num=10)\n",
    "logspace  = np.logspace(np.log10(a), np.log10(b), num=10)\n",
    "logspace_ = np.linspace(np.log10(a), np.log10(b), num=10)\n",
    "\n",
    "plt.plot(linspace,      'go', label='LINspace')\n",
    "plt.plot(logspace,      'rs', label='LINspace')\n",
    "plt.plot(10**logspace_, 'bx', label='LOG starting from LIN')\n",
    "plt.legend()\n",
    "plt.show()"
   ]
  }
 ],
 "metadata": {
  "kernelspec": {
   "display_name": "Python 3 (ipykernel)",
   "language": "python",
   "name": "python3"
  },
  "language_info": {
   "codemirror_mode": {
    "name": "ipython",
    "version": 3
   },
   "file_extension": ".py",
   "mimetype": "text/x-python",
   "name": "python",
   "nbconvert_exporter": "python",
   "pygments_lexer": "ipython3",
   "version": "3.7.12"
  }
 },
 "nbformat": 4,
 "nbformat_minor": 5
}
